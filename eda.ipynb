{
 "cells": [
  {
   "cell_type": "code",
   "execution_count": null,
   "metadata": {},
   "outputs": [],
   "source": [
    "import os\n",
    "import json\n",
    "import pandas as pd\n",
    "import datetime\n",
    "import requests\n",
    "import numpy as np"
   ]
  },
  {
   "cell_type": "code",
   "execution_count": null,
   "metadata": {},
   "outputs": [],
   "source": [
    "def readSecrets ():\n",
    "    filename = os.path.join('secrets.json')\n",
    "    try:\n",
    "        with open(filename, mode='r') as f:\n",
    "            return json.loads(f.read())\n",
    "    except FileNotFoundError:\n",
    "        return {}\n",
    "\n",
    "# Dictionary of {\"swid\": \"\", \"espn_s2\": \"\"}\n",
    "secrets = readSecrets()\n",
    "LEAGUE_ID = \"699385\""
   ]
  },
  {
   "cell_type": "code",
   "execution_count": null,
   "metadata": {},
   "outputs": [],
   "source": [
    "def reqUsersUrl(year):\n",
    "    if year < datetime.date.today().year:\n",
    "        return 'https://fantasy.espn.com/apis/v3/games/ffl/leagueHistory/{}?seasonId={}'.format(LEAGUE_ID, str(year))\n",
    "    else:\n",
    "        return 'https://fantasy.espn.com/apis/v3/games/ffl/seasons/{}/segments/0/leagues/{}'.format(str(year), LEAGUE_ID)\n",
    "\n",
    "print(reqUsersUrl(2022), reqUsersUrl(2015))"
   ]
  },
  {
   "cell_type": "code",
   "execution_count": null,
   "metadata": {},
   "outputs": [],
   "source": [
    "r = requests.get(reqUsersUrl(2022), cookies=secrets)\n",
    "res = r.json()\n",
    "del res['teams'][1]['owners'][1]\n",
    "res['teams'][1]['owners']\n",
    "print(res)"
   ]
  },
  {
   "cell_type": "code",
   "execution_count": null,
   "metadata": {},
   "outputs": [],
   "source": [
    "teams = pd.DataFrame.from_records(res['teams'])\n",
    "members = pd.DataFrame.from_records(res['members'])\n",
    "teams['owners'] = [owner[0].strip('[]') for owner in teams['owners']]\n",
    "teams"
   ]
  },
  {
   "cell_type": "code",
   "execution_count": null,
   "metadata": {},
   "outputs": [],
   "source": [
    "members.head()"
   ]
  },
  {
   "cell_type": "code",
   "execution_count": null,
   "metadata": {},
   "outputs": [],
   "source": [
    "m = requests.get(reqUsersUrl(2022), cookies=secrets, params={'view': 'mMatchup'})\n",
    "m = m.json()"
   ]
  },
  {
   "cell_type": "code",
   "execution_count": null,
   "metadata": {},
   "outputs": [],
   "source": [
    "m"
   ]
  },
  {
   "cell_type": "code",
   "execution_count": null,
   "metadata": {},
   "outputs": [],
   "source": [
    "listScores = [[\n",
    "    game['matchupPeriodId'], game['away']['totalPoints'], game['away']['teamId'], game['home']['totalPoints'], game['home']['teamId']\n",
    "] for game in m['schedule']\n",
    "]\n",
    "print(listScores)"
   ]
  },
  {
   "cell_type": "code",
   "execution_count": null,
   "metadata": {},
   "outputs": [],
   "source": [
    "matchups = pd.DataFrame(listScores, columns = ['Week', 'awayPoints', 'awayTeam', 'homePoints', 'homeTeam'])\n",
    "matchups"
   ]
  },
  {
   "cell_type": "code",
   "execution_count": null,
   "metadata": {},
   "outputs": [],
   "source": [
    "pastYears = list(range(2015,2023))\n",
    "print(pastYears)"
   ]
  },
  {
   "cell_type": "code",
   "execution_count": null,
   "metadata": {},
   "outputs": [],
   "source": [
    "allScores = []\n",
    "for year in pastYears:\n",
    "    req = requests.get(reqUsersUrl(year), cookies=secrets, params={'view': 'mMatchup'})\n",
    "    for game in m['schedule']:\n",
    "        allScores.append([ year, game['matchupPeriodId'], game['away']['totalPoints'], game['away']['teamId'], game['home']['totalPoints'], game['home']['teamId']])\n",
    "\n",
    "print(allScores)\n",
    "    "
   ]
  },
  {
   "cell_type": "code",
   "execution_count": null,
   "metadata": {},
   "outputs": [],
   "source": [
    "allMatchups = pd.DataFrame(allScores, columns = ['Year', 'Week', 'awayPoints', 'awayTeam', 'homePoints', 'homeTeam'])"
   ]
  },
  {
   "cell_type": "code",
   "execution_count": null,
   "metadata": {},
   "outputs": [],
   "source": [
    "allMatchups.head(250)"
   ]
  },
  {
   "cell_type": "code",
   "execution_count": null,
   "metadata": {},
   "outputs": [],
   "source": [
    "allMatchups.dtypes\n"
   ]
  },
  {
   "cell_type": "code",
   "execution_count": null,
   "metadata": {},
   "outputs": [],
   "source": [
    "for year in allMatchups.Year.unique():\n",
    "    selector = allMatchups.loc[allMatchups['Year'] == year]\n",
    "    print(selector['homePoints'])\n",
    "    "
   ]
  },
  {
   "cell_type": "code",
   "execution_count": null,
   "metadata": {},
   "outputs": [],
   "source": []
  }
 ],
 "metadata": {
  "kernelspec": {
   "display_name": "Python 3.10.5 64-bit",
   "language": "python",
   "name": "python3"
  },
  "language_info": {
   "codemirror_mode": {
    "name": "ipython",
    "version": 3
   },
   "file_extension": ".py",
   "mimetype": "text/x-python",
   "name": "python",
   "nbconvert_exporter": "python",
   "pygments_lexer": "ipython3",
   "version": "3.10.5"
  },
  "orig_nbformat": 4,
  "vscode": {
   "interpreter": {
    "hash": "369f2c481f4da34e4445cda3fffd2e751bd1c4d706f27375911949ba6bb62e1c"
   }
  }
 },
 "nbformat": 4,
 "nbformat_minor": 2
}
